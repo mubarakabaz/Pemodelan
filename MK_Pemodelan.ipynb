{
  "nbformat": 4,
  "nbformat_minor": 0,
  "metadata": {
    "colab": {
      "provenance": [],
      "authorship_tag": "ABX9TyMLnU87LX+EuJ9nZbYd3V35",
      "include_colab_link": true
    },
    "kernelspec": {
      "name": "python3",
      "display_name": "Python 3"
    },
    "language_info": {
      "name": "python"
    }
  },
  "cells": [
    {
      "cell_type": "markdown",
      "metadata": {
        "id": "view-in-github",
        "colab_type": "text"
      },
      "source": [
        "<a href=\"https://colab.research.google.com/github/mubarakabaz/Pemodelan/blob/main/MK_Pemodelan.ipynb\" target=\"_parent\"><img src=\"https://colab.research.google.com/assets/colab-badge.svg\" alt=\"Open In Colab\"/></a>"
      ]
    },
    {
      "cell_type": "markdown",
      "source": [
        "Diketahui sebuah sungai terdapat input buangan yang telah melalui proses pengolahan dengan metode aerasi dengan gambaran sebagai berikut :\n",
        "\n",
        "![Screenshot_212221.jpg](https://i.ibb.co.com/8m8c8r8/Screenshot-212221.jpg)"
      ],
      "metadata": {
        "id": "FbGgtMxTzGeC"
      }
    },
    {
      "cell_type": "markdown",
      "source": [
        "**Potongan A-A adalah :**\n",
        "Koefisien reaerasi (ϴ1) = 1,05\n",
        "Koefisien deksigenasi i (ϴ2) = 1,02\n",
        "Koefisien waktu penguraian :\n",
        "K1 (20) = 0,23 hari^–1 untuk reaerasi;\n",
        "K2 (20) = 3,00 hari^–1 untuk reaerasi\n",
        "\n",
        "**Ditanyakan**:\n",
        "1. Berapa BOD Maksimum yang boleh dibuang ke sungai ?\n",
        "2. Berapa efisiensi pengolahan yang seharusnya ada dan dimiliki oleh sumber\n",
        "buangan?;\n",
        "3. Bagaimana gambar profil pencemaran yang terjadi?.\n",
        "\n",
        "**Gunakan metode Stretter Pelp untuk menyelesaikan masalah ini**"
      ],
      "metadata": {
        "id": "i0yU1tSF0lfb"
      }
    },
    {
      "cell_type": "markdown",
      "source": [
        "Sebelum memulai perhitungan ini, saya mengimpor library yang saya butuhkan terlebih dahulu.\n",
        "  * Mengimpor library numpy untuk operasi numerik, matplotlib.pyplot untuk visualisasi, dan fsolve dari scipy.optimize untuk menyelesaikan persamaan non-linier."
      ],
      "metadata": {
        "id": "e06QOks319aK"
      }
    },
    {
      "cell_type": "code",
      "source": [
        "import numpy as np\n",
        "import matplotlib.pyplot as plt\n",
        "from scipy.optimize import fsolve"
      ],
      "metadata": {
        "id": "NQI5SZRU2PAr"
      },
      "execution_count": null,
      "outputs": []
    },
    {
      "cell_type": "markdown",
      "source": [
        "Setelah mengimpor semua library yang saya perlukan. saya mendefinisikan variabel-variabel yang telah diketahui sebelumnya.\n",
        "* Mendefinisikan variabel-variabel yang diketahui dari soal, seperti debit sungai (Q1), debit buangan (Q2), BOD sungai (C1), BOD buangan (C2), DO (Dissolved Oxygen) sungai, DO buangan, suhu sungai, suhu buangan, koefisien reaerasi (K2_20), koefisien deoksigenasi (K1_20), faktor koreksi suhu untuk reaerasi (theta1), faktor koreksi suhu untuk deoksigenasi (theta2), baku mutu DO (DO_baku_mutu), dan DO jenuh (DO_sat)."
      ],
      "metadata": {
        "id": "N7phKh3W2SY0"
      }
    },
    {
      "cell_type": "code",
      "source": [
        "# Parameter-parameter dari soal\n",
        "Q1 = 250  # Debit sungai (m³/detik)\n",
        "Q2 = 125  # Debit buangan (m³/detik)\n",
        "C1 = 20    # BOD sungai (mg/l)\n",
        "C2 = 800   # BOD buangan (mg/l)\n",
        "DO_sungai = 6  # DO sungai (mg/l)\n",
        "DO_buangan = 8  # DO buangan (mg/l)\n",
        "suhu_sungai = 31  # Suhu sungai (°C)\n",
        "suhu_buangan = 22  # Suhu buangan (°C)\n",
        "K2_20 = 0.23  # Koefisien reaerasi pada 20 °C (hari⁻¹)\n",
        "K1_20 = 3.00  # Koefisien deoksigenasi pada 20 °C (hari⁻¹)\n",
        "theta1 = 1.047  # Faktor koreksi suhu untuk reaerasi\n",
        "theta2 = 1.024  # Faktor koreksi suhu untuk deoksigenasi\n",
        "DO_baku_mutu = 5  # Baku mutu DO (mg/l)\n",
        "DO_sat = 8.2  # DO jenuh pada suhu campuran (diasumsikan)"
      ],
      "metadata": {
        "id": "P1K9z4xv2cFE"
      },
      "execution_count": null,
      "outputs": []
    },
    {
      "cell_type": "markdown",
      "source": [
        "Setelah mengetahui variabel-variabel yang dibutuhkan. Selanjutnya memulai untuk melakukan perhitungan.\n",
        "\n",
        "**1. Menghitung BOD, DO, dan Suhu Campuran**\n",
        "  * Menghitung BOD campuran (CO), DO campuran, dan suhu campuran menggunakan rumus neraca massa:"
      ],
      "metadata": {
        "id": "ehDnNPw73Sju"
      }
    },
    {
      "cell_type": "code",
      "source": [
        "# 1. Menghitung BOD, DO, dan suhu campuran\n",
        "CO = (Q1 * C1 + Q2 * C2) / (Q1 + Q2)\n",
        "DO_campuran = (Q1 * DO_sungai + Q2 * DO_buangan) / (Q1 + Q2)\n",
        "suhu_campuran = (Q1 * suhu_sungai + Q2 * suhu_buangan) / (Q1 + Q2)\n",
        "\n",
        "print(\"BOD:\", CO, \"mg/l\")\n",
        "print(\"DO:\", DO_campuran, \"mg/l\")\n",
        "print(\"Suhu:\", suhu_campuran, \"°C\")"
      ],
      "metadata": {
        "colab": {
          "base_uri": "https://localhost:8080/"
        },
        "id": "9zGIijzq3brL",
        "outputId": "52df7e56-6e23-4b61-a30b-ae8ceaa82228"
      },
      "execution_count": null,
      "outputs": [
        {
          "output_type": "stream",
          "name": "stdout",
          "text": [
            "BOD: 280.0 mg/l\n",
            "DO: 6.666666666666667 mg/l\n",
            "Suhu: 28.0 °C\n"
          ]
        }
      ]
    },
    {
      "cell_type": "markdown",
      "source": [
        "**2. Menghitung K1 dan K2 pada suhu campuran**\n",
        "* Menghitung koefisien deoksigenasi (K1) dan koefisien reaerasi (K2) pada suhu campuran menggunakan rumus:"
      ],
      "metadata": {
        "id": "gA-Gkp_p3s9W"
      }
    },
    {
      "cell_type": "code",
      "source": [
        "# 2. Menghitung K1 dan K2 pada suhu campuran\n",
        "K1 = K1_20 * theta2**(suhu_campuran - 20)\n",
        "K2 = K2_20 * theta1**(suhu_campuran - 20)\n",
        "\n",
        "print(\"K1:\", K1, \"hari⁻¹\")\n",
        "print(\"K2:\", K2, \"hari⁻¹\")"
      ],
      "metadata": {
        "colab": {
          "base_uri": "https://localhost:8080/"
        },
        "id": "oPYAqzYd5E7z",
        "outputId": "32028ee8-9a6a-439f-c435-0a5c565ccef0"
      },
      "execution_count": null,
      "outputs": [
        {
          "output_type": "stream",
          "name": "stdout",
          "text": [
            "K1: 3.626777458843888 hari⁻¹\n",
            "K2: 0.33212478742359985 hari⁻¹\n"
          ]
        }
      ]
    },
    {
      "cell_type": "markdown",
      "source": [
        "**3. Menghitung defisit oksigen awal (Da) dan Kritis (Dc)**\n",
        "* Menghitung defisit oksigen awal (Da) dan defisit oksigen kritis (Dc) menggunakan rumus:"
      ],
      "metadata": {
        "id": "4_OPIKvQ5Hub"
      }
    },
    {
      "cell_type": "code",
      "source": [
        "# 3. Menghitung defisit oksigen awal (Da) dan kritis (Dc)\n",
        "Da = DO_sat - DO_campuran\n",
        "Dc = DO_sat - DO_baku_mutu\n",
        "\n",
        "print(\"Defisit oksigen awal (Da):\", Da, \"mg/l\")\n",
        "print(\"Kritis (Dc):\", Dc, \"mg/l\")"
      ],
      "metadata": {
        "colab": {
          "base_uri": "https://localhost:8080/"
        },
        "id": "YVdF2pNa5OkA",
        "outputId": "f9f904db-a234-419b-e5df-7989aa17fd68"
      },
      "execution_count": null,
      "outputs": [
        {
          "output_type": "stream",
          "name": "stdout",
          "text": [
            "Defisit oksigen awal (Da): 1.5333333333333323 mg/l\n",
            "Kritis (Dc): 3.1999999999999993 mg/l\n"
          ]
        }
      ]
    },
    {
      "cell_type": "markdown",
      "source": [
        "**4. Mendefinisikan Persamaan Streeter-Phelps untuk mencari tc**\n",
        "* Mendefinisikan fungsi persamaan_streeter_phelps yang mewakili persamaan Streeter-Phelps:"
      ],
      "metadata": {
        "id": "TfoAOPvM5RnM"
      }
    },
    {
      "cell_type": "code",
      "source": [
        "# 4. Mendefinisikan persamaan Streeter-Phelps untuk mencari tc\n",
        "def persamaan_streeter_phelps(t, *data):\n",
        "    K1, K2, La, Da, Dc = data\n",
        "    return ((K1 * La) / (K2 - K1)) * (np.exp(-K1 * t) - np.exp(-K2 * t)) + Da * np.exp(-K1 * t) - Dc"
      ],
      "metadata": {
        "id": "6D07t5s75el4"
      },
      "execution_count": null,
      "outputs": []
    },
    {
      "cell_type": "markdown",
      "source": [
        "**5. Mencari BOD ultimate (La) terlebih dahulu, menggunakan BOD campuran sebagai perkiraan awal La**\n",
        "* Mencari nilai BOD ultimate (La) dengan menggunakan fsolve.\n",
        "* Menggunakan BOD campuran sebagai perkiraan awal La.\n",
        "* Memperbaiki nilai La setelah mendapatkan waktu kritis (tc)."
      ],
      "metadata": {
        "id": "7QFlyPpJ5kUu"
      }
    },
    {
      "cell_type": "code",
      "source": [
        "# 5. Mencari BOD ultimate (La) terlebih dahulu\n",
        "La = CO  # Menggunakan BOD campuran sebagai perkiraan awal La\n",
        "\n",
        "print(\"BOD ultimate (La):\", La, \"mg/l\")"
      ],
      "metadata": {
        "colab": {
          "base_uri": "https://localhost:8080/"
        },
        "id": "W1Bf-Jue5x5N",
        "outputId": "ea4baad0-25fe-48a9-f0b4-122232ff35fb"
      },
      "execution_count": null,
      "outputs": [
        {
          "output_type": "stream",
          "name": "stdout",
          "text": [
            "BOD ultimate (La): 280.0 mg/l\n"
          ]
        }
      ]
    },
    {
      "cell_type": "markdown",
      "source": [
        "**6. Mencari waktu kritis (tc) dan perbaikan La berdasarkan tc**\n",
        "* Mencari nilai waktu kritis (tc) dengan menggunakan fsolve.\n",
        "Menggunakan nilai La yang telah dihitung sebelumnya."
      ],
      "metadata": {
        "id": "F_nxvHyT5yy5"
      }
    },
    {
      "cell_type": "code",
      "source": [
        "# 6. Mencari waktu kritis (tc) dan perbaikan La berdasarkan tc\n",
        "tc_awal = 0.1  # Tebakan awal untuk tc\n",
        "data = (K1, K2, La, Da, Dc)\n",
        "\n",
        "tc = fsolve(persamaan_streeter_phelps, tc_awal, args=data)[0]\n",
        "\n",
        "# Setelah mendapatkan tc, hitung La kembali menggunakan nilai tc\n",
        "La = (K1 * Dc) / (K2 * (np.exp(-K2 * tc) - np.exp(-K1 * tc))) + Da * np.exp(-K1 * tc)\n",
        "\n",
        "print(\"Waktu kritis (tc):\", tc, \"hari\")\n",
        "print(\"La setelah perbaikan:\", La, \"mg/l\")"
      ],
      "metadata": {
        "colab": {
          "base_uri": "https://localhost:8080/"
        },
        "id": "4FgzpPTK564h",
        "outputId": "f5bbe6c3-05ac-4553-b0c4-ce8b2814f7a2"
      },
      "execution_count": null,
      "outputs": [
        {
          "output_type": "stream",
          "name": "stdout",
          "text": [
            "Waktu kritis (tc): 0.0016556863963046809 hari\n",
            "La setelah perbaikan: 6428.470520580356 mg/l\n"
          ]
        }
      ]
    },
    {
      "cell_type": "markdown",
      "source": [
        "**7. Menghitung BOD Maksimum yang diperbolehkan**\n",
        "* Menghitung BOD maksimum yang diperbolehkan (BOD_maks) menggunakan rumus:"
      ],
      "metadata": {
        "id": "ZQ4YmrCq6Cpc"
      }
    },
    {
      "cell_type": "code",
      "source": [
        "# 7. Menghitung BOD maksimum yang diperbolehkan\n",
        "BOD_maks = La / np.exp(K1 * tc)\n",
        "\n",
        "print(\"BOD maksimum yang diperbolehkan:\", BOD_maks, \"mg/l\")"
      ],
      "metadata": {
        "colab": {
          "base_uri": "https://localhost:8080/"
        },
        "id": "Hrz4HU3O6JFQ",
        "outputId": "a438e346-31c1-416f-c1da-639cfa0442ff"
      },
      "execution_count": null,
      "outputs": [
        {
          "output_type": "stream",
          "name": "stdout",
          "text": [
            "BOD maksimum yang diperbolehkan: 6389.98446786328 mg/l\n"
          ]
        }
      ]
    },
    {
      "cell_type": "markdown",
      "source": [
        "**8. Menghitung efisieensi pengolahan**\n",
        "* Menghitung efisiensi pengolahan yang diperlukan menggunakan rumus:"
      ],
      "metadata": {
        "id": "WZ9YGKiY6L15"
      }
    },
    {
      "cell_type": "code",
      "source": [
        "# 8. Menghitung efisiensi pengolahan\n",
        "C2_akhir = ((Q1 + Q2) * BOD_maks - Q1 * C1) / Q2\n",
        "efisiensi = ((C2 - C2_akhir) / C2) * 100\n",
        "\n",
        "print(\"Efisiensi pengolahan:\", efisiensi, \"%\")"
      ],
      "metadata": {
        "colab": {
          "base_uri": "https://localhost:8080/"
        },
        "id": "otGC5Ysm6R3W",
        "outputId": "e26d606a-ba40-4a89-fd83-6a7e08b5b001"
      },
      "execution_count": null,
      "outputs": [
        {
          "output_type": "stream",
          "name": "stdout",
          "text": [
            "Efisiensi pengolahan: -2291.24417544873 %\n"
          ]
        }
      ]
    },
    {
      "cell_type": "markdown",
      "source": [
        "**9. Membuat Profil Pencemaran**\n",
        "* Mendefinisikan fungsi streeter_phelps untuk menghitung defisit oksigen (Dt) pada waktu t.\n",
        "* Menghasilkan data untuk profil pencemaran dengan menghitung Dt dan DO untuk 100 titik waktu antara 0 dan 1 hari.\n",
        "\n"
      ],
      "metadata": {
        "id": "AwUM_uaE6WB6"
      }
    },
    {
      "cell_type": "code",
      "source": [
        "# 9. Membuat profil pencemaran\n",
        "def streeter_phelps(t):\n",
        "    return ((K1 * La) / (K2 - K1)) * (np.exp(-K1 * t) - np.exp(-K2 * t)) + Da * np.exp(-K1 * t)\n",
        "\n",
        "t = np.linspace(0, 1, 100)  # Menghasilkan 100 titik waktu antara 0 dan 1 hari\n",
        "Dt = streeter_phelps(t)\n",
        "DO = DO_sat - Dt"
      ],
      "metadata": {
        "id": "ATa9ploL6bOt"
      },
      "execution_count": null,
      "outputs": []
    },
    {
      "cell_type": "markdown",
      "source": [
        "**10. Memvisualisasikan data**\n",
        "* Membuat plot profil pencemaran yang menunjukkan defisit oksigen (Dt) dan DO terhadap waktu.\n",
        "* Menambahkan garis horizontal untuk DO jenuh dan baku mutu DO."
      ],
      "metadata": {
        "id": "v4bPNe-j6ef8"
      }
    },
    {
      "cell_type": "code",
      "execution_count": null,
      "metadata": {
        "colab": {
          "base_uri": "https://localhost:8080/",
          "height": 564
        },
        "id": "-RxK39K5zd1G",
        "outputId": "27311371-9e51-4f2a-f25d-53412e216eea"
      },
      "outputs": [
        {
          "output_type": "display_data",
          "data": {
            "text/plain": [
              "<Figure size 1000x600 with 1 Axes>"
            ],
            "image/png": "[encoded data removed]"
          },
          "metadata": {}
        }
      ],
      "source": [
        "# 10. Visualisasi\n",
        "plt.figure(figsize=(10, 6))\n",
        "plt.plot(t, Dt, label='Defisit Oksigen (Dt)')\n",
        "plt.plot(t, DO, label='DO')\n",
        "plt.axhline(y=DO_sat, color='r', linestyle='--', label='DO Jenuh')\n",
        "plt.axhline(y=DO_baku_mutu, color='g', linestyle='--', label='Baku Mutu DO')\n",
        "plt.xlabel('Waktu (hari)')\n",
        "plt.ylabel('Konsentrasi (mg/l)')\n",
        "plt.title('Profil Pencemaran')\n",
        "plt.legend()\n",
        "plt.grid(True)\n",
        "plt.show()"
      ]
    },
    {
      "cell_type": "markdown",
      "source": [
        "Grafik menunjukkan bahwa defisit oksigen (Dt) cukup tinggi dan kadar oksigen terlarut (DO) turun di bawah baku mutu setelah pembuangan limbah. Hal ini menunjukkan bahwa kualitas air sungai menurun secara signifikan akibat pencemaran.\n",
        "\n",
        "Grafik yang dihasilkan dari kode program tersebut adalah profil pencemaran yang menunjukkan perubahan defisit oksigen (Dt) dan kadar oksigen terlarut (DO) terhadap waktu setelah terjadi pembuangan limbah ke sungai.\n",
        "\n",
        "**Sumbu X:** Waktu (hari)\n",
        "**Sumbu Y:** Konsentrasi (mg/l)\n",
        "\n",
        "**Kurva:**\n",
        "\n",
        "Defisit Oksigen (Dt): Kurva ini menunjukkan seberapa besar kekurangan oksigen di dalam air sungai dibandingkan dengan kondisi jenuh. Semakin tinggi nilai Dt, semakin besar kekurangan oksigen, yang berarti kualitas air semakin buruk. Pada grafik, kurva Dt awalnya naik karena adanya limbah organik yang membutuhkan oksigen untuk dekomposisi, kemudian turun seiring dengan proses reaerasi (penyerapan oksigen dari atmosfer).\n",
        "**DO:** Kurva ini menunjukkan kadar oksigen terlarut di dalam air sungai. Semakin tinggi nilai DO, semakin baik kualitas air. Kurva DO merupakan kebalikan dari kurva Dt, yaitu awalnya turun karena konsumsi oksigen oleh limbah organik, kemudian naik kembali karena reaerasi.\n",
        "\n",
        "**Garis Horizontal:**\n",
        "\n",
        "**DO Jenuh:** Garis ini menunjukkan kadar oksigen maksimum yang dapat larut dalam air pada suhu tertentu.\n",
        "Baku Mutu DO: Garis ini menunjukkan batas minimum kadar oksigen terlarut yang harus dipenuhi agar kualitas air sungai dianggap baik.\n",
        "Interpretasi Grafik:\n",
        "\n",
        "**Waktu Kritis (tc):** Titik terendah pada kurva DO atau titik tertinggi pada kurva Dt menunjukkan waktu kritis (tc), yaitu waktu saat kadar oksigen terlarut mencapai nilai minimum.\n",
        "**Defisit Oksigen Kritis (Dc):** Selisih antara DO jenuh dan DO pada waktu kritis menunjukkan defisit oksigen kritis (Dc).\n",
        "Pemulihan Kualitas Air: Setelah waktu kritis, kurva DO naik dan kurva Dt turun, menunjukkan bahwa kualitas air mulai pulih karena proses reaerasi.\n"
      ],
      "metadata": {
        "id": "NiuNhYpHDMH3"
      }
    }
  ]
}